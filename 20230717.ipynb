{
 "cells": [
  {
   "cell_type": "code",
   "execution_count": 3,
   "metadata": {},
   "outputs": [
    {
     "name": "stdout",
     "output_type": "stream",
     "text": [
      "Hello\n"
     ]
    }
   ],
   "source": [
    "print(\"Hello\")"
   ]
  },
  {
   "cell_type": "markdown",
   "metadata": {},
   "source": [
    "# 파이썬 기초 \n",
    "\n",
    " 1. 저장\n",
    " 2. 조건\n",
    " 3. 반복\n",
    "\n",
    "\n"
   ]
  },
  {
   "cell_type": "markdown",
   "metadata": {},
   "source": [
    "## 1. 저장\n",
    "\n",
    "변수 : 하나의 값을 저장할 수 있는 저장 공간\n",
    "\n",
    "무엇을 저장하는가?\n",
    "\n",
    "1. 숫자\n",
    "    1. 현실세계에 존재하는 모든 숫자, 기본적인 연산이 가능\n",
    "2. 글자/문자\n",
    "    1. 현실세계에 존재하는 모든 글자, 파이썬에서 글자를 표현하기 위해서는 따옴표를 사용\n",
    "    2. 56(숫자), \"56\"(문자) \n",
    "3. T/F\n",
    "    1. True/False 단 두가지만 사용 가능 , 조건문/반복문에 사용된다.\n",
    "    2. 300 > 200 => TRUE\n",
    "    3. 150 == 161 => FALSE \n",
    "\n",
    "    \n",
    "\n"
   ]
  },
  {
   "cell_type": "code",
   "execution_count": 4,
   "metadata": {},
   "outputs": [],
   "source": [
    "height = 169\n",
    "# 파이썬에서 사용하고 있는 변수, 키워드는 사용 금지 ex) TRUE, print .."
   ]
  },
  {
   "cell_type": "markdown",
   "metadata": {},
   "source": [
    "값을 여러개 저장하려면??\n",
    "\n",
    "리스트(List) 사용\n",
    "여러개의 연속된 값을 저장할 수 있는 저장 공간 -> **순서가 있다는 뜻**"
   ]
  },
  {
   "cell_type": "code",
   "execution_count": 5,
   "metadata": {},
   "outputs": [
    {
     "name": "stdout",
     "output_type": "stream",
     "text": [
      "['돼지불백', '지코바치밥', '설렁탕']\n",
      "돼지불백\n",
      "지코바치밥\n",
      "설렁탕\n"
     ]
    },
    {
     "ename": "IndexError",
     "evalue": "list index out of range",
     "output_type": "error",
     "traceback": [
      "\u001b[1;31m---------------------------------------------------------------------------\u001b[0m",
      "\u001b[1;31mIndexError\u001b[0m                                Traceback (most recent call last)",
      "Cell \u001b[1;32mIn[5], line 7\u001b[0m\n\u001b[0;32m      5\u001b[0m \u001b[39mprint\u001b[39m(lunch[\u001b[39m1\u001b[39m])\n\u001b[0;32m      6\u001b[0m \u001b[39mprint\u001b[39m(lunch[\u001b[39m2\u001b[39m])\n\u001b[1;32m----> 7\u001b[0m \u001b[39mprint\u001b[39m(lunch[\u001b[39m3\u001b[39;49m])\n",
      "\u001b[1;31mIndexError\u001b[0m: list index out of range"
     ]
    }
   ],
   "source": [
    "lunch = [\"돼지불백\", \"지코바치밥\", \"설렁탕\"]\n",
    "\n",
    "print(lunch)\n",
    "print(lunch[0])\n",
    "print(lunch[1])\n",
    "print(lunch[2])\n",
    "print(lunch[3])"
   ]
  },
  {
   "cell_type": "markdown",
   "metadata": {},
   "source": [
    "딕셔너리(dicitonary)\n",
    "\n",
    "이름표를 단 여러개의 값을 저장할 수 있는 저장공간\n",
    "\n",
    "a = {\"key1\" : \"value1\" , \"key2\" : \"value2\" }"
   ]
  },
  {
   "cell_type": "code",
   "execution_count": null,
   "metadata": {},
   "outputs": [
    {
     "name": "stdout",
     "output_type": "stream",
     "text": [
      "{'name': 'yugyeong', 'height': 169}\n",
      "yugyeong\n",
      "169\n"
     ]
    }
   ],
   "source": [
    "yugyeong = {\"name\": \"yugyeong\", \"height\": 169}\n",
    "\n",
    "print(yugyeong)\n",
    "print(yugyeong[\"name\"])\n",
    "print(yugyeong[\"height\"])"
   ]
  },
  {
   "cell_type": "code",
   "execution_count": null,
   "metadata": {},
   "outputs": [
    {
     "name": "stdout",
     "output_type": "stream",
     "text": [
      "169 황유경 True\n"
     ]
    }
   ],
   "source": [
    "height = 169\n",
    "name = \"황유경\"\n",
    "boolean = 300 > 200  # True\n",
    "print(height, name, boolean)"
   ]
  },
  {
   "cell_type": "markdown",
   "metadata": {},
   "source": [
    "## 조건문\n",
    "\n",
    "만약 a 이라면 \n",
    "b 해줘\n",
    "그게 아니라 c이면\n",
    "d 해줘\n",
    "아니라면\n",
    "e 해줘\n",
    "\n",
    "==> **파이썬은 들여쓰기 필수** \n",
    "\n",
    "if a : \n",
    "    b\n",
    "elif c :\n",
    "    d\n",
    "else : \n",
    "    e\n",
    "    "
   ]
  },
  {
   "cell_type": "code",
   "execution_count": null,
   "metadata": {},
   "outputs": [
    {
     "name": "stdout",
     "output_type": "stream",
     "text": [
      "50 미만\n"
     ]
    }
   ],
   "source": [
    "dust = 50\n",
    "\n",
    "if dust > 50:\n",
    "    print(\"50 초과\")\n",
    "else:\n",
    "    print(\"50 미만\")"
   ]
  },
  {
   "cell_type": "code",
   "execution_count": null,
   "metadata": {},
   "outputs": [
    {
     "name": "stdout",
     "output_type": "stream",
     "text": [
      "나쁨\n"
     ]
    }
   ],
   "source": [
    "dust = 90\n",
    "\n",
    "if dust > 150:\n",
    "    print(\"매우 나쁨\")\n",
    "elif dust > 80:  # 80 < dust <= 150 도 가능\n",
    "    print(\"나쁨\")\n",
    "else:\n",
    "    print(\"좋음\")"
   ]
  },
  {
   "cell_type": "markdown",
   "metadata": {},
   "source": [
    "## 반복 while / for\n",
    "\n",
    "### while문\n",
    "\n",
    "만약 a 라면\n",
    "계속 b 해줘\n",
    "\n",
    "while a :\n",
    "    b\n",
    "\n",
    "### for문\n",
    "\n",
    "여러개의 값을 저장하는 변수에서 반복하여 값을꺼내서 사용\n",
    "\n",
    "a에 있는 b를 이용해서\n",
    "c 해줘\n",
    "\n",
    "for b in a\n",
    "    c\n"
   ]
  },
  {
   "cell_type": "code",
   "execution_count": null,
   "metadata": {},
   "outputs": [
    {
     "name": "stdout",
     "output_type": "stream",
     "text": [
      "0\n",
      "1\n",
      "2\n"
     ]
    }
   ],
   "source": [
    "n = 0\n",
    "\n",
    "while n < 3:  # 조건이 언젠가는 false 가 되도록 조건 만들어야함\n",
    "    print(n)\n",
    "    n = n + 1"
   ]
  },
  {
   "cell_type": "code",
   "execution_count": null,
   "metadata": {},
   "outputs": [
    {
     "name": "stdout",
     "output_type": "stream",
     "text": [
      "hello\n",
      "hello\n",
      "hello\n",
      "hello\n",
      "hello\n",
      "hello\n",
      "hello\n",
      "hello\n",
      "hello\n",
      "hello\n"
     ]
    }
   ],
   "source": [
    "n = 0\n",
    "\n",
    "while n < 10:\n",
    "    print(\"hello\")\n",
    "    n = n + 1"
   ]
  },
  {
   "cell_type": "code",
   "execution_count": null,
   "metadata": {},
   "outputs": [
    {
     "name": "stdout",
     "output_type": "stream",
     "text": [
      "돼지불백\n",
      "지코바치밥\n",
      "설렁탕\n"
     ]
    }
   ],
   "source": [
    "lunch = [\"돼지불백\", \"지코바치밥\", \"설렁탕\"]\n",
    "\n",
    "for value in lunch:\n",
    "    print(value)"
   ]
  },
  {
   "cell_type": "markdown",
   "metadata": {},
   "source": [
    "### while vs for\n",
    "\n",
    "while => 조건이 True인 동안 반복적으로 실행되기에 종료 조건이 반드시 필요\n",
    "\n",
    "for => 정해진 범위를 반복하기에 종료조건이 필요 없다"
   ]
  },
  {
   "cell_type": "markdown",
   "metadata": {},
   "source": [
    "## 함수\n",
    "\n",
    "input => Function => output\n",
    "\n",
    "어떤 기능을 하는 코드 덩어리를 모아 놓은 것 \n",
    "\n",
    "```\n",
    "print(\"hello\")\n",
    "\n",
    "```\n",
    "\n",
    "## 모듈 사용\n",
    "1. 함수가 포함된 파일을 불러와서 사용할 수 있다. (import)\n",
    "\n",
    "    random 모듈\n"
   ]
  },
  {
   "cell_type": "code",
   "execution_count": null,
   "metadata": {},
   "outputs": [
    {
     "name": "stdout",
     "output_type": "stream",
     "text": [
      "돼지불백\n",
      "[8, 9, 3]\n"
     ]
    }
   ],
   "source": [
    "import random\n",
    "\n",
    "lunch = [\"돼지불백\", \"지코바치밥\", \"설렁탕\"]\n",
    "\n",
    "print(random.choice(lunch))  # radom 안의 choice 함수 불러와서 무작위 선택\n",
    "\n",
    "numbers = [1, 2, 3, 4, 5, 6, 7, 8, 9, 10]\n",
    "pick = random.sample(numbers, 3)\n",
    "\n",
    "print(pick)"
   ]
  },
  {
   "cell_type": "code",
   "execution_count": null,
   "metadata": {},
   "outputs": [
    {
     "name": "stdout",
     "output_type": "stream",
     "text": [
      "1\n",
      "2\n",
      "3\n",
      "4\n",
      "5\n",
      "6\n",
      "7\n",
      "8\n",
      "9\n"
     ]
    }
   ],
   "source": [
    "for i in range(1, 10):  # 1이상 10 미만\n",
    "    print(i)"
   ]
  },
  {
   "cell_type": "code",
   "execution_count": null,
   "metadata": {},
   "outputs": [
    {
     "name": "stdout",
     "output_type": "stream",
     "text": [
      "==2 단==\n",
      "2 * 1 = 2\n",
      "2 * 2 = 4\n",
      "2 * 3 = 6\n",
      "2 * 4 = 8\n",
      "2 * 5 = 10\n",
      "2 * 6 = 12\n",
      "2 * 7 = 14\n",
      "2 * 8 = 16\n",
      "2 * 9 = 18\n",
      "==3 단==\n",
      "3 * 1 = 3\n",
      "3 * 2 = 6\n",
      "3 * 3 = 9\n",
      "3 * 4 = 12\n",
      "3 * 5 = 15\n",
      "3 * 6 = 18\n",
      "3 * 7 = 21\n",
      "3 * 8 = 24\n",
      "3 * 9 = 27\n",
      "==4 단==\n",
      "4 * 1 = 4\n",
      "4 * 2 = 8\n",
      "4 * 3 = 12\n",
      "4 * 4 = 16\n",
      "4 * 5 = 20\n",
      "4 * 6 = 24\n",
      "4 * 7 = 28\n",
      "4 * 8 = 32\n",
      "4 * 9 = 36\n",
      "==5 단==\n",
      "5 * 1 = 5\n",
      "5 * 2 = 10\n",
      "5 * 3 = 15\n",
      "5 * 4 = 20\n",
      "5 * 5 = 25\n",
      "5 * 6 = 30\n",
      "5 * 7 = 35\n",
      "5 * 8 = 40\n",
      "5 * 9 = 45\n",
      "==6 단==\n",
      "6 * 1 = 6\n",
      "6 * 2 = 12\n",
      "6 * 3 = 18\n",
      "6 * 4 = 24\n",
      "6 * 5 = 30\n",
      "6 * 6 = 36\n",
      "6 * 7 = 42\n",
      "6 * 8 = 48\n",
      "6 * 9 = 54\n",
      "==7 단==\n",
      "7 * 1 = 7\n",
      "7 * 2 = 14\n",
      "7 * 3 = 21\n",
      "7 * 4 = 28\n",
      "7 * 5 = 35\n",
      "7 * 6 = 42\n",
      "7 * 7 = 49\n",
      "7 * 8 = 56\n",
      "7 * 9 = 63\n",
      "==8 단==\n",
      "8 * 1 = 8\n",
      "8 * 2 = 16\n",
      "8 * 3 = 24\n",
      "8 * 4 = 32\n",
      "8 * 5 = 40\n",
      "8 * 6 = 48\n",
      "8 * 7 = 56\n",
      "8 * 8 = 64\n",
      "8 * 9 = 72\n",
      "==9 단==\n",
      "9 * 1 = 9\n",
      "9 * 2 = 18\n",
      "9 * 3 = 27\n",
      "9 * 4 = 36\n",
      "9 * 5 = 45\n",
      "9 * 6 = 54\n",
      "9 * 7 = 63\n",
      "9 * 8 = 72\n",
      "9 * 9 = 81\n"
     ]
    }
   ],
   "source": [
    "# 구구단\n",
    "\n",
    "for i in range(2, 10):  # range(start,end) : start 와 end 사이의 연속적인 숫자 리턴\n",
    "    print(f\"=={i} 단==\")\n",
    "    for j in range(1, 10):\n",
    "        print(f\"{i} * {j} = {i * j}\")"
   ]
  },
  {
   "cell_type": "code",
   "execution_count": null,
   "metadata": {},
   "outputs": [
    {
     "name": "stdout",
     "output_type": "stream",
     "text": [
      "[33, 40, 11, 26, 1, 7]\n"
     ]
    }
   ],
   "source": [
    "# 로또 자동추첨기\n",
    "# 로또의 번호 범위는 1~45\n",
    "# 6개의 숫자를 뽑아서 출력하는 코드\n",
    "\n",
    "import random\n",
    "\n",
    "i = list(range(1, 46))\n",
    "# print(i)\n",
    "pick = random.sample(i, 6)\n",
    "print(pick)"
   ]
  },
  {
   "cell_type": "markdown",
   "metadata": {},
   "source": [
    "input().split(' ') // 공백 기준으로 input 여러개 받을 수 있음"
   ]
  },
  {
   "cell_type": "markdown",
   "metadata": {},
   "source": [
    "# 20230717\n",
    "\n",
    " - 프로그래밍은 순서대로 실행\n",
    " - 변수명 규칙 \n",
    "    영문 알파벳, 언더스코어(_), 숫자로 구성\n",
    "    숫자로 시작 불가\n",
    "    대소문자 구분\n",
    "    파이썬 내부에서 사용하는 키워드는 사용 불가\n",
    "    \n",
    "    ```\n",
    "    import keyword\n",
    "    print(keyword.kwlist)  # 내부 키워드 확인 \n",
    "\n",
    "    ```\n",
    "    ```\n",
    "    keyword.iskeyword(s)   #가 파이썬 키워드면 TRUE 반환 \n",
    "    \n",
    "    ```"
   ]
  },
  {
   "cell_type": "markdown",
   "metadata": {},
   "source": [
    "## 문자열 더하기 \n",
    "+ 나 * 등의 연산자로 문자열 더하거나, 문자열 반복 횟수를 정할 수 있음 "
   ]
  },
  {
   "cell_type": "code",
   "execution_count": null,
   "metadata": {},
   "outputs": [
    {
     "name": "stdout",
     "output_type": "stream",
     "text": [
      "안녕하세요 반갑습니다\n"
     ]
    }
   ],
   "source": [
    "str1 = \"안녕하세요\"\n",
    "str2 = \" 반갑습니다\"\n",
    "\n",
    "str3 = str1 + str2 \n",
    "print(str3)"
   ]
  },
  {
   "cell_type": "code",
   "execution_count": 6,
   "metadata": {},
   "outputs": [
    {
     "name": "stdout",
     "output_type": "stream",
     "text": [
      "안녕하세요안녕하세요안녕하세요\n"
     ]
    }
   ],
   "source": [
    "str1 = \"안녕하세요\"\n",
    "print(str1 * 3)"
   ]
  },
  {
   "cell_type": "code",
   "execution_count": 7,
   "metadata": {},
   "outputs": [
    {
     "name": "stdout",
     "output_type": "stream",
     "text": [
      "안녕하세요 안녕하세요 안녕하세요 \n"
     ]
    }
   ],
   "source": [
    "str1 = \"안녕하세요\"\n",
    "print((str1 + \" \") * 3)"
   ]
  }
 ],
 "metadata": {
  "kernelspec": {
   "display_name": "Python 3",
   "language": "python",
   "name": "python3"
  },
  "language_info": {
   "codemirror_mode": {
    "name": "ipython",
    "version": 3
   },
   "file_extension": ".py",
   "mimetype": "text/x-python",
   "name": "python",
   "nbconvert_exporter": "python",
   "pygments_lexer": "ipython3",
   "version": "3.9.13"
  },
  "orig_nbformat": 4
 },
 "nbformat": 4,
 "nbformat_minor": 2
}
