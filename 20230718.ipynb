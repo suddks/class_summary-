{
 "cells": [
  {
   "cell_type": "markdown",
   "metadata": {},
   "source": [
    "# 데이터 타입\n",
    "\n",
    "## Numeric Types\n",
    "- int : 정수 자료형\n",
    "    2진수, 8진수, 16진수 \n",
    "    // vscode에서 실행할 때 세모버튼 말고 터미널에서 python ~.py 명령어로 실행하도록 하자"
   ]
  },
  {
   "cell_type": "code",
   "execution_count": 2,
   "metadata": {},
   "outputs": [
    {
     "name": "stdout",
     "output_type": "stream",
     "text": [
      "0b1100\n",
      "0o14\n",
      "0xc\n"
     ]
    }
   ],
   "source": [
    "# 진법 변경 \n",
    "print(bin(12))       # 10진 -> 2진\n",
    "print(oct(12))       # 10진 -> 8진 \n",
    "print(hex(12))       # 10진 -> 16진"
   ]
  },
  {
   "cell_type": "markdown",
   "metadata": {},
   "source": [
    "- float : 실수 자료형\n",
    "    프로그래밍 언어에서 float는 실수에 대한 근삿값\n",
    "     => Floating round error (부동소수점에러) 발생 가능 "
   ]
  },
  {
   "cell_type": "code",
   "execution_count": 3,
   "metadata": {},
   "outputs": [
    {
     "name": "stdout",
     "output_type": "stream",
     "text": [
      "0.6666666666666666\n",
      "1.6666666666666667\n"
     ]
    }
   ],
   "source": [
    "print(2 / 3)      #메모리의 한계 때문 \n",
    "print(5 / 3)"
   ]
  },
  {
   "cell_type": "code",
   "execution_count": 6,
   "metadata": {},
   "outputs": [
    {
     "name": "stdout",
     "output_type": "stream",
     "text": [
      "0.10000000000000009\n",
      "0.09999999999999987\n",
      "True\n"
     ]
    }
   ],
   "source": [
    "# 부동소수점에러  \n",
    "\n",
    "a = 3.2 - 3.1        # 0.1이 아님 \n",
    "b = 1.2 - 1.1\n",
    "print(a)\n",
    "print(b)\n",
    "\n",
    "#해결책\n",
    "# math 모듈 활용\n",
    "import math\n",
    "print(math.isclose(a, b))   #True"
   ]
  },
  {
   "cell_type": "code",
   "execution_count": 8,
   "metadata": {},
   "outputs": [
    {
     "name": "stdout",
     "output_type": "stream",
     "text": [
      "3.14\n",
      "31400.0\n",
      "98596\n"
     ]
    }
   ],
   "source": [
    "# 지수 출력방식\n",
    "print(314e-2)      # 314 * 10^(-2)\n",
    "print(314e2)       # 314 * 10^2 \n",
    "print(314 ** 2)    # 10의 제곱 말고 다른 제곱수 출력 314*14"
   ]
  },
  {
   "cell_type": "markdown",
   "metadata": {},
   "source": [
    "## Sequence Types\n",
    "    여러개의 값들을 순서대로 나열하여 저장하는 자료형 (str, list, tuple, range)\n",
    "\n",
    "- Sequence Types의 특징 \n",
    "\n",
    "    1. 값들이 순서대로 저장 ( 정렬은 아님 )\n",
    "    2. 인덱싱 : 각 값에 고유한 인덱스 번호를 가짐, 0부터 시작\n",
    "    3. 슬라이싱 : 인덱스 범위로 부분적인 값 추출 가능\n",
    "    4. 길이 : len() 함수를 이용하여 저장된 값의 개수를 구할 수 있음\n",
    "    5. 반복 : 반복문 사용 가능\n",
    "\n",
    "#### str : 문자열 \n",
    "    문자들의 순서가 있는 변경 불가능한 시퀀스 자료형\n",
    "    '' or \"\" 로 감싸셔 표현 \n",
    "    ```\n",
    "    print('Hello, World!') \n",
    "    ```\n",
    "    - 중첩 따옴표 : 문자열 안에 '' 사용하고 싶으면 \"\"로 감싸면 됨\n",
    "    - Escape sequence : 역슬래시뒤에 특정문자가 와서 특수한 기능을 하는 문자 조합\n",
    "        \\n : 줄바꿈\n",
    "        \\t : 탭\n",
    "        \\' : 작은따옴표\n",
    "        \\\" : 큰따옴표\n"
   ]
  },
  {
   "cell_type": "code",
   "execution_count": 9,
   "metadata": {},
   "outputs": [
    {
     "name": "stdout",
     "output_type": "stream",
     "text": [
      "철수야 '안녕'\n"
     ]
    }
   ],
   "source": [
    "print('철수야 \\'안녕\\'')"
   ]
  },
  {
   "cell_type": "markdown",
   "metadata": {},
   "source": [
    "- String Interpolation \n",
    "    문자열 내에 변수나 표현식을 삽입하는 방법\n",
    "\n",
    "    - fstring : f 나 F 가 접두어, 표현식을 {expression} 으로 작성하여 표현식 값 삽입 가능\n",
    "    "
   ]
  },
  {
   "cell_type": "code",
   "execution_count": 19,
   "metadata": {},
   "outputs": [
    {
     "name": "stdout",
     "output_type": "stream",
     "text": [
      "Debugging raoches 13 Living room\n",
      "Debugging roaches 13 Living room\n",
      "NewDebugging butterflies 13 Living room\n",
      "Debugging roaches 13 Living room\n",
      "Debugging roaches 13 Living room\n"
     ]
    }
   ],
   "source": [
    "# f-string\n",
    "\n",
    "print('Debugging raoches 13 Living room')\n",
    "\n",
    "bugs = 'roaches'\n",
    "counts = 13\n",
    "area = 'Living room'\n",
    "new_bugs = 'butterflies'\n",
    "\n",
    "print(f'Debugging {bugs} {counts} {area}')\n",
    "print(f'NewDebugging {new_bugs} {counts} {area}')\n",
    "\n",
    "\n",
    "#f-string 나오기 전에 formatting 방법\n",
    "\n",
    "print('Debugging {} {} {}'.format(bugs, counts, area))\n",
    "print('Debugging %s %d %s' % (bugs, counts, area))\n"
   ]
  },
  {
   "cell_type": "code",
   "execution_count": 25,
   "metadata": {},
   "outputs": [
    {
     "name": "stdout",
     "output_type": "stream",
     "text": [
      "hi\n",
      "        hi\n",
      "    hi    \n"
     ]
    }
   ],
   "source": [
    "#f-string 응용 (f-string advanced)\n",
    "greeting = 'hi'\n",
    "print(f'{greeting}')\n",
    "print(f'{greeting:>10}')\n",
    "print(f'{greeting:^10}')"
   ]
  },
  {
   "cell_type": "markdown",
   "metadata": {},
   "source": [
    "- 슬라이싱  : 시퀀스의 일부분을 선택하여 추출하는 작업\n",
    "\n",
    "my_str = 'hello'\n",
    "my_str[2:4] => 'll'"
   ]
  },
  {
   "cell_type": "code",
   "execution_count": 29,
   "metadata": {},
   "outputs": [
    {
     "name": "stdout",
     "output_type": "stream",
     "text": [
      "ll\n",
      "hel\n",
      "lo\n",
      "hlo\n",
      "olleh\n"
     ]
    },
    {
     "ename": "TypeError",
     "evalue": "'str' object does not support item assignment",
     "output_type": "error",
     "traceback": [
      "\u001b[1;31m---------------------------------------------------------------------------\u001b[0m",
      "\u001b[1;31mTypeError\u001b[0m                                 Traceback (most recent call last)",
      "Cell \u001b[1;32mIn[29], line 8\u001b[0m\n\u001b[0;32m      5\u001b[0m \u001b[39mprint\u001b[39m(my_str[\u001b[39m0\u001b[39m:\u001b[39m5\u001b[39m:\u001b[39m2\u001b[39m])\n\u001b[0;32m      6\u001b[0m \u001b[39mprint\u001b[39m(my_str[::\u001b[39m-\u001b[39m\u001b[39m1\u001b[39m])\n\u001b[1;32m----> 8\u001b[0m my_str[\u001b[39m1\u001b[39;49m] \u001b[39m=\u001b[39m \u001b[39m'\u001b[39m\u001b[39mx\u001b[39m\u001b[39m'\u001b[39m\n",
      "\u001b[1;31mTypeError\u001b[0m: 'str' object does not support item assignment"
     ]
    }
   ],
   "source": [
    "my_str = \"hello\"\n",
    "print(my_str[2:4])\n",
    "print(my_str[:3])\n",
    "print(my_str[3:])\n",
    "print(my_str[0:5:2])\n",
    "print(my_str[::-1])\n",
    "\n",
    "#str 문자열은 불변, 바꿀 수 없음 \n",
    "my_str[1] = 'x'       "
   ]
  },
  {
   "cell_type": "markdown",
   "metadata": {},
   "source": [
    "## list : 여러 개의 값을 순서대로 저장하는 변경 가능한 시퀀스 자료형\n",
    "- 리스트 표현 \n",
    "    1. 0개 이상의 객체 포함하며 저장\n",
    "    2. [] (대괄호) 표기\n",
    "    3. 어떤 자료형도 저장 가능\n",
    "    4. 가변형 "
   ]
  },
  {
   "cell_type": "code",
   "execution_count": null,
   "metadata": {},
   "outputs": [],
   "source": [
    "#리스트 출력 \n",
    "my_list = [1, 'a', 3, 'b, 5']\n"
   ]
  },
  {
   "cell_type": "code",
   "execution_count": 30,
   "metadata": {},
   "outputs": [
    {
     "name": "stdout",
     "output_type": "stream",
     "text": [
      "5\n",
      "!!!\n",
      "w\n"
     ]
    }
   ],
   "source": [
    "# 중첩된 리스트 접근\n",
    "\n",
    "my_list = [1, 2, 3, 'Python', ['hello', 'world', '!!!']]\n",
    "\n",
    "print(len(my_list))\n",
    "print(my_list[4][-1])\n",
    "print(my_list[-1][1][0])    \n"
   ]
  },
  {
   "cell_type": "code",
   "execution_count": 31,
   "metadata": {},
   "outputs": [
    {
     "name": "stdout",
     "output_type": "stream",
     "text": [
      "[100, 2, 3]\n"
     ]
    }
   ],
   "source": [
    "#리스트는 가변형\n",
    "\n",
    "my_list = [1, 2, 3]\n",
    "my_list[0] = 100\n",
    "print(my_list)"
   ]
  },
  {
   "cell_type": "markdown",
   "metadata": {},
   "source": [
    "## 튜플 : 리스트랑 동일, 변경 불가능한 시퀀스 자료형\n",
    "- 튜플 표현\n",
    "    1. 0개 이상의 객체 포함하며 저장\n",
    "    2. () 소괄호  표기\n",
    "        ! 튜플의 요소가 하나라면, my_tuple = (1 ,)  , 까지 표현해줘야 튜플로 알아들음 \n",
    "    3. 어떤 자료형도 저장 가능\n",
    "    "
   ]
  },
  {
   "cell_type": "code",
   "execution_count": 32,
   "metadata": {},
   "outputs": [
    {
     "ename": "TypeError",
     "evalue": "'tuple' object does not support item assignment",
     "output_type": "error",
     "traceback": [
      "\u001b[1;31m---------------------------------------------------------------------------\u001b[0m",
      "\u001b[1;31mTypeError\u001b[0m                                 Traceback (most recent call last)",
      "Cell \u001b[1;32mIn[32], line 3\u001b[0m\n\u001b[0;32m      1\u001b[0m my_tuple \u001b[39m=\u001b[39m (\u001b[39m1\u001b[39m, \u001b[39m'\u001b[39m\u001b[39ma\u001b[39m\u001b[39m'\u001b[39m, \u001b[39m3\u001b[39m, \u001b[39m'\u001b[39m\u001b[39mb\u001b[39m\u001b[39m'\u001b[39m, \u001b[39m5\u001b[39m)\n\u001b[1;32m----> 3\u001b[0m my_tuple[\u001b[39m1\u001b[39;49m] \u001b[39m=\u001b[39m \u001b[39m'\u001b[39m\u001b[39mz\u001b[39m\u001b[39m'\u001b[39m\n",
      "\u001b[1;31mTypeError\u001b[0m: 'tuple' object does not support item assignment"
     ]
    }
   ],
   "source": [
    "#튜플은 불변형 \n",
    "\n",
    "my_tuple = (1, 'a', 3, 'b', 5)\n",
    "\n",
    "my_tuple[1] = 'z'     #불변형 => 오류발생 "
   ]
  },
  {
   "cell_type": "markdown",
   "metadata": {},
   "source": [
    " **튜플은 어디에 쓰일까?**\n",
    "\n",
    "    불변특성을 사용하여 안전하게 여러개의 값을 전달, 개발자가 이용하기보다는 파이썬의 내부 동작에서 주로 이용됨"
   ]
  },
  {
   "cell_type": "markdown",
   "metadata": {},
   "source": [
    "## range : 연속된 정수 시퀀스를 생성하는 변경 불가능한 자료형 \n",
    "\n",
    "- range(n) : 0 부터 n-1 까지의 숫자 시퀀스\n",
    "- range(n, m) = n부터 m-1 까지의 숫자 시퀀스"
   ]
  },
  {
   "cell_type": "markdown",
   "metadata": {},
   "source": [
    " range의 출력 => list 로 형변환, 반복문 등을 이용하면 내부 확인 가능 "
   ]
  },
  {
   "cell_type": "code",
   "execution_count": 33,
   "metadata": {},
   "outputs": [
    {
     "name": "stdout",
     "output_type": "stream",
     "text": [
      "range(0, 5)\n",
      "range(1, 10)\n",
      "[0, 1, 2, 3, 4]\n",
      "[1, 2, 3, 4, 5, 6, 7, 8, 9]\n"
     ]
    }
   ],
   "source": [
    "\n",
    "my_range_1 = range(5)\n",
    "my_range_2 = range(1, 10)\n",
    "\n",
    "\n",
    "# range를 그냥 출력하면 안나옴 \n",
    "print(my_range_1)   \n",
    "print(my_range_2)\n",
    "\n",
    "# 리스트로 형 변환 시 내용을 확인 할 수있다\n",
    "print(list(my_range_1))\n",
    "print(list(my_range_2))"
   ]
  },
  {
   "cell_type": "markdown",
   "metadata": {},
   "source": [
    "## Non-sequence type data\n",
    "\n",
    "#### dict : key-value 쌍으로 이루어진 순서와 중복이 없는 가변형 자료형 \n",
    "    - 딕셔너리 표현 \n",
    "        1. key는 변경 불가능한 자료형만 사용 가능 ( str, int, float, tuple, range ...)\n",
    "        2. value 는 모든 자료형 사용 가능\n",
    "        3. {} 중괄호로 표기\n",
    "        4. {'key' : 'value'} 형태로 작성\n",
    "        5. key를 통해 value에 접근해야함\n"
   ]
  },
  {
   "cell_type": "code",
   "execution_count": 37,
   "metadata": {},
   "outputs": [
    {
     "name": "stdout",
     "output_type": "stream",
     "text": [
      "1\n",
      "2\n",
      "{'apple': 20, 'banana': 2}\n"
     ]
    }
   ],
   "source": [
    "#dict형읜 key - value 쌍으로 표현\n",
    "\n",
    "my_dict_1 = {}\n",
    "my_dict_2 = {'key' : 'value'}\n",
    "my_dict_3 = {'apple': 1 , 'banana' : 2}\n",
    "\n",
    "# dict형은 key를 통해 접근이 가능 \n",
    "print(my_dict_3['apple'])\n",
    "print(my_dict_3['banana'])\n",
    "\n",
    "#dict 형은 가변형, 값 변경 가능 \n",
    "my_dict_3['apple'] = 20\n",
    "print(my_dict_3)\n"
   ]
  },
  {
   "cell_type": "markdown",
   "metadata": {},
   "source": [
    "#### set : 순서와 중복이 없는 변경 가능한 자료형 \n",
    "    집합연산에서 주료 이용\n",
    "    순서가 있다면 인덱스가 가능해야함 \n",
    "    \n",
    "- 세트표현\n",
    "    1. 수학의 집합과 동일한 연산 처리 가능\n",
    "    2. {} 중괄호 표기"
   ]
  },
  {
   "cell_type": "code",
   "execution_count": 38,
   "metadata": {},
   "outputs": [
    {
     "name": "stdout",
     "output_type": "stream",
     "text": [
      "set()\n",
      "{1, 2, 3}\n",
      "{1}\n"
     ]
    }
   ],
   "source": [
    "\n",
    "\n",
    "my_set_1 = set()       #  빈 세트는 중괄호 아니고 소괄호 -> dict 형과 겹치기 때문 \n",
    "my_set_2 = {1, 2, 3}   # 요소 2 는 몇번째 요소일까? 순서가 없기 때문에 요소 순서가 없음  \n",
    "my_set_3 = {1, 1, 1}\n",
    "\n",
    "print(my_set_1)\n",
    "print(my_set_2)\n",
    "print(my_set_3)        #  집합, 중복 없기때문에 1 만 출력 "
   ]
  },
  {
   "cell_type": "code",
   "execution_count": 41,
   "metadata": {},
   "outputs": [
    {
     "name": "stdout",
     "output_type": "stream",
     "text": [
      "{1, 2, 3, 6, 9}\n",
      "{1, 2}\n",
      "{3}\n"
     ]
    }
   ],
   "source": [
    "# 세트의 집합 연산\n",
    "\n",
    "my_set_1 = {1, 2, 3}\n",
    "my_set_2 = {3, 6, 9}\n",
    "\n",
    "#합집합\n",
    "print(my_set_1 | my_set_2)\n",
    "\n",
    "#차집합\n",
    "print(my_set_1 - my_set_2)\n",
    "\n",
    "#교집합\n",
    "print(my_set_1 & my_set_2)"
   ]
  },
  {
   "cell_type": "markdown",
   "metadata": {},
   "source": [
    "## Other Types\n",
    "\n",
    "#### None : 값이 없음을 표현하는 자료형 ( 0과 다름 )"
   ]
  },
  {
   "cell_type": "code",
   "execution_count": 42,
   "metadata": {},
   "outputs": [
    {
     "name": "stdout",
     "output_type": "stream",
     "text": [
      "None\n"
     ]
    }
   ],
   "source": [
    "variable = None\n",
    "print(variable)"
   ]
  },
  {
   "cell_type": "markdown",
   "metadata": {},
   "source": [
    "#### Boolean : 참과 거짓을 표현하는 자료형\n",
    "    비교/ 논리 연산의 평가 결과로 사용\n",
    "    주로 조건 / 반복문과 사용"
   ]
  },
  {
   "cell_type": "code",
   "execution_count": null,
   "metadata": {},
   "outputs": [],
   "source": [
    "bool_1 = True\n",
    "bool_2 = False\n",
    "\n"
   ]
  },
  {
   "cell_type": "markdown",
   "metadata": {},
   "source": [
    "## Collection : 여러개의 항목 또는 요소를 담는 자료구조 \n",
    " str, list, tuple, set, dict \n",
    "\n",
    "    str     변경 가능 여부      순서  여부\n",
    "    list             X                 O            시퀀스\n",
    "    tuple             O                 O            시퀀스\n",
    "    set             X                 O            시퀀스\n",
    "                 O                 X            비시퀀스\n",
    "                 O                 X            비시퀀스\n"
   ]
  },
  {
   "cell_type": "markdown",
   "metadata": {},
   "source": [
    "- 불변과 가변의차이\n",
    "\n",
    "str 은 한 메모리에 'hello' 가 함께 들어감\n",
    "list 는 각 요소가 각 메모리에 하나씩 들어감 \n",
    "\n",
    "=> str은 hello에서 e만 뽑아내서 바꾸는게 불가능 "
   ]
  },
  {
   "cell_type": "code",
   "execution_count": 43,
   "metadata": {},
   "outputs": [
    {
     "ename": "TypeError",
     "evalue": "'str' object does not support item assignment",
     "output_type": "error",
     "traceback": [
      "\u001b[1;31m---------------------------------------------------------------------------\u001b[0m",
      "\u001b[1;31mTypeError\u001b[0m                                 Traceback (most recent call last)",
      "Cell \u001b[1;32mIn[43], line 4\u001b[0m\n\u001b[0;32m      1\u001b[0m \u001b[39m# 불변과 가변의 차이 \u001b[39;00m\n\u001b[0;32m      3\u001b[0m my_str \u001b[39m=\u001b[39m \u001b[39m'\u001b[39m\u001b[39mhello\u001b[39m\u001b[39m'\u001b[39m\n\u001b[1;32m----> 4\u001b[0m my_str[\u001b[39m0\u001b[39;49m] \u001b[39m=\u001b[39m \u001b[39m'\u001b[39m\u001b[39mz\u001b[39m\u001b[39m'\u001b[39m\n\u001b[0;32m      6\u001b[0m my_list \u001b[39m=\u001b[39m [\u001b[39m1\u001b[39m, \u001b[39m2\u001b[39m, \u001b[39m3\u001b[39m]\n\u001b[0;32m      7\u001b[0m my_list[\u001b[39m0\u001b[39m] \u001b[39m=\u001b[39m \u001b[39m100\u001b[39m\n",
      "\u001b[1;31mTypeError\u001b[0m: 'str' object does not support item assignment"
     ]
    }
   ],
   "source": [
    "# 불변과 가변의 차이 \n",
    "\n",
    "my_str = 'hello'\n",
    "my_str[0] = 'z'\n",
    "\n",
    "my_list = [1, 2, 3]\n",
    "my_list[0] = 100\n",
    "print(my_list)\n",
    "\n"
   ]
  },
  {
   "cell_type": "markdown",
   "metadata": {},
   "source": [
    "**list 사용 문제**\n",
    "list는 메모리 주소를 할당 , 값을 할당받는게 아님\n"
   ]
  },
  {
   "cell_type": "code",
   "execution_count": 44,
   "metadata": {},
   "outputs": [
    {
     "name": "stdout",
     "output_type": "stream",
     "text": [
      "[100, 2, 3]\n",
      "[100, 2, 3]\n"
     ]
    }
   ],
   "source": [
    "list_1 = [1,2,3]\n",
    "list_2 = list_1\n",
    "\n",
    "list_1[0] = 100\n",
    "print(list_1)\n",
    "print(list_2)"
   ]
  },
  {
   "cell_type": "code",
   "execution_count": 45,
   "metadata": {},
   "outputs": [
    {
     "name": "stdout",
     "output_type": "stream",
     "text": [
      "20\n",
      "10\n"
     ]
    }
   ],
   "source": [
    "# cf) 불변형은 어떻게 다른가? \n",
    "\n",
    "x = 10\n",
    "y = x\n",
    "\n",
    "x = 20\n",
    "print(x)\n",
    "print(y)\n"
   ]
  },
  {
   "cell_type": "markdown",
   "metadata": {},
   "source": [
    "- Type conversion\n",
    "\n",
    "    - 암시적 형변환 : 파이썬이 자동으로 실행해주는 형변환\n",
    "        int + float => float  / 암시적 형변환을 한 경우는 범위가 큰 쪽으로 결과가 나타남 \n",
    "    - 명시적 형변환 : 개발자가 직접 형변환을 하는 경우 \n",
    "        문자열 형변환 예시 \n",
    "            str -> integer : 형식에 맞는 숫자만 가능\n",
    "            integer -> str : 모두 가능 "
   ]
  },
  {
   "cell_type": "code",
   "execution_count": 46,
   "metadata": {},
   "outputs": [
    {
     "name": "stdout",
     "output_type": "stream",
     "text": [
      "3.5\n",
      "5\n",
      "1\n"
     ]
    }
   ],
   "source": [
    "# 암시적 형변환 예시\n",
    "\n",
    "print(3 + 0.5)       # int + float => float\n",
    "print(True + 4)      # boolean + int => int\n",
    "print(True + False)"
   ]
  },
  {
   "cell_type": "code",
   "execution_count": null,
   "metadata": {},
   "outputs": [],
   "source": [
    "print(int('1'))\n",
    "print(int('3.4 '))   # 3.4는 int형이 아니라서 오류 발생 "
   ]
  },
  {
   "cell_type": "markdown",
   "metadata": {},
   "source": [
    "참조-> 주소가 같은지를 확인하는 것\n",
    " "
   ]
  },
  {
   "cell_type": "code",
   "execution_count": 48,
   "metadata": {},
   "outputs": [
    {
     "name": "stdout",
     "output_type": "stream",
     "text": [
      "True\n",
      "False\n"
     ]
    }
   ],
   "source": [
    "a = [1, 2, 3]\n",
    "b = [1, 2, 3]\n",
    "  # a와 b 의 주소가 다름 -> 값을 복사하는 것 : 깊은 복사 \n",
    "print(a == b)  #값이 같은지\n",
    "print(a is b)  #주소가 같은지 \n"
   ]
  },
  {
   "cell_type": "code",
   "execution_count": 49,
   "metadata": {},
   "outputs": [
    {
     "name": "stdout",
     "output_type": "stream",
     "text": [
      "True\n",
      "True\n"
     ]
    }
   ],
   "source": [
    "\n",
    "a = [1, 2, 3]\n",
    "b = a    \n",
    "\n",
    "# a 와 b의 주소가 같음 -> 주소를 복사하는 것 : 얕은 복사 \n",
    "\n",
    "print(a == b)\n",
    "print(a is b) \n"
   ]
  },
  {
   "cell_type": "markdown",
   "metadata": {},
   "source": [
    "논리연산자\n",
    "\n",
    "and / or /not\n",
    "boolean -> 0 이면 0, 그 이상이면 다 1\n",
    "\n",
    "print(3 and 5) \n",
    "\n",
    "!단축평가! 시험\n",
    "!소괄호가 우선순위 제일 높음, 우선순위 확인!\n",
    "\n",
    "print(tuple(list))\n",
    "\n",
    "print(list(dic)) -> key만 바뀜 "
   ]
  }
 ],
 "metadata": {
  "kernelspec": {
   "display_name": "Python 3",
   "language": "python",
   "name": "python3"
  },
  "language_info": {
   "codemirror_mode": {
    "name": "ipython",
    "version": 3
   },
   "file_extension": ".py",
   "mimetype": "text/x-python",
   "name": "python",
   "nbconvert_exporter": "python",
   "pygments_lexer": "ipython3",
   "version": "3.9.13"
  },
  "orig_nbformat": 4
 },
 "nbformat": 4,
 "nbformat_minor": 2
}
