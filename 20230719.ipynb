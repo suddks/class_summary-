{
 "cells": [
  {
   "cell_type": "markdown",
   "metadata": {},
   "source": [
    "# 함수 : 특정 작업을 수행하기 위한 재사용 가능한 코드 묶음 \n",
    "\n",
    "- 함수를 사용하는 이유 : 재사용성, 코드 가독성 유지보수성 향상 "
   ]
  },
  {
   "cell_type": "code",
   "execution_count": 1,
   "metadata": {},
   "outputs": [
    {
     "name": "stdout",
     "output_type": "stream",
     "text": [
      "5\n"
     ]
    }
   ],
   "source": [
    "# 두 수의 합을 구하는 함수 \n",
    "def get_sum(num1 , num2):\n",
    "    return num1 + num2\n",
    "\n",
    "#  함수 사용하여 결과 출력\n",
    "num1 = 2\n",
    "num2 = 3\n",
    "sum_result = get_sum(num1, num2)\n",
    "print(sum_result)"
   ]
  },
  {
   "cell_type": "markdown",
   "metadata": {},
   "source": [
    "- 내장함수 : 파이썬이 기본적으로 제공하는 함수 \n",
    "                (별도의 import 없이 사용 가능)\n",
    "                 python documentaion 에서 내장함수 목록 확인 가능 "
   ]
  },
  {
   "cell_type": "code",
   "execution_count": 2,
   "metadata": {},
   "outputs": [
    {
     "name": "stdout",
     "output_type": "stream",
     "text": [
      "1\n"
     ]
    }
   ],
   "source": [
    "# 절댓값 구하는 함수\n",
    "result = abs(-1)\n",
    "print(result)"
   ]
  },
  {
   "cell_type": "markdown",
   "metadata": {},
   "source": [
    "- 함수 호출 : 함수 이름을 사용하여 함수 코드 블록을 실행하는 것\n",
    "- 함수 구조 : Input, Output "
   ]
  },
  {
   "cell_type": "code",
   "execution_count": null,
   "metadata": {},
   "outputs": [],
   "source": [
    "def make_sum(pram1, pram2):  # pram1, pram2 매개변수\n",
    "    return pram1 + pram2     # return value , 반환값 "
   ]
  },
  {
   "cell_type": "markdown",
   "metadata": {},
   "source": [
    "- 함수의 정의와 호출\n",
    "    - 함수 정의 \n",
    "        1. def 키워드로 시작\n",
    "        2. def 키워드 이후 함수 이름 작성 \n",
    "        3. 괄호 안에 매개변수 정의\n",
    "        4. 매개변수 : 함수에 전달되는 값\n",
    "\n",
    "        * 반환값이 없는 함수도 있음 : print 함수 등 \n",
    "              -> 값을 return 한다기보다는 터미널에 결과 띄워주는 것 \n",
    "           코드 실행 중에 return 만나면 함수는 종료됨 \n",
    "           \n",
    "        **return 이 없다면 None이 결과값으로 나옴**"
   ]
  },
  {
   "cell_type": "code",
   "execution_count": 6,
   "metadata": {},
   "outputs": [
    {
     "name": "stdout",
     "output_type": "stream",
     "text": [
      "Hello, Alice\n"
     ]
    }
   ],
   "source": [
    "# 함수 정의\n",
    "def greet(name):\n",
    "\n",
    "    message = 'Hello, ' + name\n",
    "    return message\n",
    "\n",
    "#함수 호출\n",
    "result = greet('Alice')\n",
    "print(result)\n"
   ]
  },
  {
   "cell_type": "markdown",
   "metadata": {},
   "source": [
    "- 매개변수와 인자\n",
    "\n",
    "    - 매개변수 : 함수를 정의할 때 함수가 받을 값 나타내는 변수\n",
    "\n",
    "    - 인자 : 함수를 호출할 때, 실제로 전달되는 값 \n",
    "\n",
    "        - 위치인자 : 함수 호출 할 때 인자의 위치에 따라 전달되는 인자\n",
    "            ** 위치인자는 함수 호출 시 반드시 값을 전달 해야함 ** \n",
    "\n",
    "        - 기본인자 : 함수 정의에서 매개변수에 기본 값 할당\n",
    "                    함수 호출시 인자 전달 안받으면, 기본값이 매개변수에 할당됨 \n",
    "                    \n",
    "        - 키워드인자 : 함수 호출 시 인자의 이름과 함께 값을 전달하는 인자 \n",
    "    "
   ]
  },
  {
   "cell_type": "code",
   "execution_count": null,
   "metadata": {},
   "outputs": [],
   "source": [
    "def make_sum(pram1, pram2):  # pram1, pram2 매개변수\n",
    "    return pram1 + pram2 \n",
    "\n",
    "a = 2                        # a, b는 인자 \n",
    "b = 3\n",
    "sum_result = make_sum(a, b)\n",
    "print(sum_result) \n"
   ]
  },
  {
   "cell_type": "code",
   "execution_count": null,
   "metadata": {},
   "outputs": [],
   "source": [
    "#위치인자 \n",
    "\n",
    "def greet(name, age):\n",
    "    print(f'안녕하세요, {name}님! {age}살이시군요.')\n",
    "\n",
    "greet('Alice' , 25)\n",
    "# greet 함수 호출 시 모든 인자값에 값이 있어야함 \n",
    "# -> 하나라도 안넣으면 에러발생"
   ]
  },
  {
   "cell_type": "code",
   "execution_count": null,
   "metadata": {},
   "outputs": [],
   "source": [
    "# 기본 인자 값\n",
    "def greet(name, age = 30):\n",
    "    print(f'안녕하세요, {name}님! {age}살이시군요.')\n",
    "\n",
    "greet('Bob')   # age 에 값 할당 안되어있어도 기본값 30 이 할당\n",
    "greet('Charlie', 40)    #다른 값이 할당되는 경우라면 덮어쓰여짐 "
   ]
  },
  {
   "cell_type": "code",
   "execution_count": 12,
   "metadata": {},
   "outputs": [
    {
     "name": "stdout",
     "output_type": "stream",
     "text": [
      "안녕하세요, Alice님! 25살이시군요.\n",
      "안녕하세요, 25님! Alice살이시군요.\n",
      "안녕하세요, Alice님! 25살이시군요.\n",
      "안녕하세요, Alice님! 25살이시군요.\n"
     ]
    }
   ],
   "source": [
    "def greet(name, age = 30):\n",
    "    print(f'안녕하세요, {name}님! {age}살이시군요.')\n",
    "\n",
    "greet('Alice' , 25)   \n",
    "greet(25, 'Alice')\n",
    "#키워드 인자 사용 -> name, age를 각각 명시해주면 순서가 맞지 않아도 괜찮음 \n",
    "greet(name = 'Alice', age = \"25\")       \n",
    "greet(age = 25, name = 'Alice')\n",
    "# greet(age = 25, 'Dave')     # 위치인자가 따라오고 있어서 오류 발생 "
   ]
  },
  {
   "cell_type": "markdown",
   "metadata": {},
   "source": [
    "\n",
    "- 임의의 인자 목록\n",
    "\n",
    "    1. 정해지지 않은 개수의 인자 처리하는 인자\n",
    "    2. 함수 정의 시 매개변수 앞에 '*'  붙여서 사용, 여러개의 인자를 tuple로 처리 \n"
   ]
  },
  {
   "cell_type": "code",
   "execution_count": 15,
   "metadata": {},
   "outputs": [
    {
     "name": "stdout",
     "output_type": "stream",
     "text": [
      "hi aaa bbb ccc\n",
      "aaa bbb ccc\n",
      "(1, 2, 3, 4, 5)\n"
     ]
    }
   ],
   "source": [
    "#print 함수는 임의로 input 개수를 바꿀 수 있다. => 임의의 인자 목록 \n",
    "print('hi', 'aaa', 'bbb', 'ccc')\n",
    "print('aaa', 'bbb', 'ccc')\n",
    "\n",
    "def calcualte_sum(*args):\n",
    "    print(args)\n",
    "\n",
    "calcualte_sum(1, 2, 3, 4, 5)"
   ]
  },
  {
   "cell_type": "markdown",
   "metadata": {},
   "source": [
    "- 임의의 키워드 인자 목록\n",
    "    1. 정해지지 않은 개수의 키워드 인자를 처리하는 인자 \n",
    "    2. 함수 정의시 매개변수 앞에 '**\" 를 붙여 사용, 여러 인자를 dict 로 묶어 처리 "
   ]
  },
  {
   "cell_type": "code",
   "execution_count": 16,
   "metadata": {},
   "outputs": [
    {
     "name": "stdout",
     "output_type": "stream",
     "text": [
      "{'name': 'Alice', 'age': 30, 'address': 'Korea'}\n"
     ]
    }
   ],
   "source": [
    "# 임이의 키워드 인자 목록 \n",
    "def calcualte_sum(**kwargs):\n",
    "    print(kwargs)\n",
    "\n",
    "calcualte_sum(name = 'Alice', age = 30, address = 'Korea')\n"
   ]
  },
  {
   "cell_type": "markdown",
   "metadata": {},
   "source": [
    "- 함수 인자 권장 작성순서\n",
    "    위치 -> 기본 -> 가변 -> 키워드 -> 가변 키워드\n",
    "    * 절대적인 규칙은 아님 \n",
    "    ```\n",
    "    def(pos1, pos2, default_arg = 'default', *args, kwd, **kwargs):\n",
    "    \n",
    "    ```"
   ]
  },
  {
   "cell_type": "markdown",
   "metadata": {},
   "source": [
    "- python의 범위\n",
    "\n",
    "    코드 내부의 local scope, 그 외 공간인 global scope\n",
    "    - global scope : 코드 어디에서든 참조할 수 있는 공간\n",
    "    - local scope : 함수가 만든 공간\n",
    "\n",
    "    1. built in scope : 파이썬이 실행된 이후부터 영원히 유지\n",
    "    2. global scope : 모듈을 가져와서부터 그 전체 코드가 실행될때까지 유지\n",
    "    3. local scope : 함수 호출 시 생성, 함수 종료될 때까지 유지\n"
   ]
  },
  {
   "cell_type": "code",
   "execution_count": 17,
   "metadata": {},
   "outputs": [
    {
     "ename": "NameError",
     "evalue": "name 'num' is not defined",
     "output_type": "error",
     "traceback": [
      "\u001b[1;31m---------------------------------------------------------------------------\u001b[0m",
      "\u001b[1;31mNameError\u001b[0m                                 Traceback (most recent call last)",
      "Cell \u001b[1;32mIn[17], line 5\u001b[0m\n\u001b[0;32m      1\u001b[0m \u001b[39mdef\u001b[39;00m \u001b[39mmy_func\u001b[39m():\n\u001b[0;32m      2\u001b[0m     num \u001b[39m=\u001b[39m \u001b[39m1\u001b[39m\n\u001b[1;32m----> 5\u001b[0m \u001b[39mprint\u001b[39m(num)\n",
      "\u001b[1;31mNameError\u001b[0m: name 'num' is not defined"
     ]
    }
   ],
   "source": [
    "# 함수의 범위\n",
    "# def 안에서 쓴 num 이라는 변수는 def 함수 안에서만 사용할 수 있음 \n",
    "\n",
    "def my_func():\n",
    "    num = 1\n",
    "    \n",
    "print(num)  \n"
   ]
  },
  {
   "cell_type": "code",
   "execution_count": 18,
   "metadata": {},
   "outputs": [
    {
     "name": "stdout",
     "output_type": "stream",
     "text": [
      "2\n"
     ]
    }
   ],
   "source": [
    "def my_func():\n",
    "    num = 1\n",
    "    \n",
    "num = 2    \n",
    "print(num)     \n"
   ]
  },
  {
   "cell_type": "markdown",
   "metadata": {},
   "source": [
    "- 이름 검색 규칙\n",
    "    - LEGB Rule ( 1 가장 작은 영역 -> 4 가장 큰 영역 )\n",
    "        1. Local scope : 현재 작업중인 범위\n",
    "        2. Enclosed scope : 지역 범위 한 단계 위 범위\n",
    "        3. Global Scope : 최상단에 위치한 범위\n",
    "        4. Built-in Scope\n",
    "\n",
    "        1 에 없으면 2로, 2에 없으면 3으로 찾으러 올라갈 수 있음"
   ]
  },
  {
   "cell_type": "code",
   "execution_count": 20,
   "metadata": {},
   "outputs": [
    {
     "name": "stdout",
     "output_type": "stream",
     "text": [
      "200\n"
     ]
    }
   ],
   "source": [
    "# 이름 검색 규칙에 따른 결과 출력 \n",
    "num = 200\n",
    "\n",
    "def my_func():\n",
    "    print(num)\n",
    "\n",
    "my_func()"
   ]
  },
  {
   "cell_type": "code",
   "execution_count": 21,
   "metadata": {},
   "outputs": [
    {
     "name": "stdout",
     "output_type": "stream",
     "text": [
      "10\n"
     ]
    },
    {
     "ename": "TypeError",
     "evalue": "'int' object is not callable",
     "output_type": "error",
     "traceback": [
      "\u001b[1;31m---------------------------------------------------------------------------\u001b[0m",
      "\u001b[1;31mTypeError\u001b[0m                                 Traceback (most recent call last)",
      "Cell \u001b[1;32mIn[21], line 6\u001b[0m\n\u001b[0;32m      3\u001b[0m \u001b[39msum\u001b[39m \u001b[39m=\u001b[39m \u001b[39m10\u001b[39m\n\u001b[0;32m      4\u001b[0m \u001b[39mprint\u001b[39m(\u001b[39msum\u001b[39m)\n\u001b[1;32m----> 6\u001b[0m \u001b[39mprint\u001b[39m(\u001b[39msum\u001b[39;49m([\u001b[39m1\u001b[39;49m, \u001b[39m2\u001b[39;49m, \u001b[39m3\u001b[39;49m]))    \n",
      "\u001b[1;31mTypeError\u001b[0m: 'int' object is not callable"
     ]
    }
   ],
   "source": [
    "\n",
    "#print(sum([1, 2, 3]))\n",
    "\n",
    "sum = 10\n",
    "print(sum)\n",
    "\n",
    "print(sum([1, 2, 3]))    #TypeError: 'int' object is not callabl\n",
    "# global에서 먼저 변수를 찾아버려서, built-in 에 내장된 sum 을 사용하지 못한 것 "
   ]
  },
  {
   "cell_type": "code",
   "execution_count": 22,
   "metadata": {},
   "outputs": [
    {
     "name": "stdout",
     "output_type": "stream",
     "text": [
      "10 2 500\n",
      "10 2 3\n",
      "1 2\n"
     ]
    }
   ],
   "source": [
    "a = 1\n",
    "b = 2\n",
    "\n",
    "def enclosed():\n",
    "    a = 10\n",
    "    c = 3\n",
    "    \n",
    "    def local(c):\n",
    "        print(a, b, c)\n",
    "    \n",
    "    local(500)\n",
    "    print(a, b, c)\n",
    "\n",
    "enclosed()\n",
    "print(a, b)"
   ]
  },
  {
   "cell_type": "markdown",
   "metadata": {},
   "source": [
    "- 'global' 키워드\n",
    "    변수의 스코프를 전역범위로 지정하기 위해 사용 \n",
    "    일반적으로 함수 내에서 전역 변수를 수정하려는 경우에 사용\n",
    "\n",
    "    **global 키워드 선언 전에 접근 금지**\n",
    "    \n",
    "    **매개변수에 global 사용 불가**\n",
    "        ```\n",
    "            def inclement(num)\n",
    "            global num\n",
    "            num += 1\n",
    "\n",
    "        ```"
   ]
  },
  {
   "cell_type": "code",
   "execution_count": 23,
   "metadata": {},
   "outputs": [
    {
     "name": "stdout",
     "output_type": "stream",
     "text": [
      "0\n",
      "1\n"
     ]
    }
   ],
   "source": [
    "num = 0 # 전역변수\n",
    "\n",
    "def increment():\n",
    "    global num  # num을 전역변수로 선언\n",
    "    num += 1\n",
    "\n",
    "\n",
    "print(num)   # 전역변수 출력 \n",
    "increment()  # 함수 실행\n",
    "print(num)   # 전역변수가 수정됨 "
   ]
  },
  {
   "cell_type": "markdown",
   "metadata": {},
   "source": [
    "- 재귀함수 : 함수 안에서 자기를 다시 호출하는 함수\n",
    "     변수 사용이 줄어 들 수 있음 \n",
    "\n",
    "     **무한호출에 걸릴 가능성이 있음**\n",
    "\n",
    "     - 재귀함수 예시 : 팩토리얼"
   ]
  },
  {
   "cell_type": "code",
   "execution_count": 24,
   "metadata": {},
   "outputs": [
    {
     "name": "stdout",
     "output_type": "stream",
     "text": [
      "120\n"
     ]
    }
   ],
   "source": [
    "#재귀함수 - 팩토리얼 \n",
    "\n",
    "def factorial(n):\n",
    "\n",
    "    if n == 0:\n",
    "        return 1   # 무한호출에 걸리지 않기 위해 종료조건이 있어야함 \n",
    "    return n * factorial(n - 1)\n",
    "\n",
    "result= factorial(5)\n",
    "print(result)"
   ]
  },
  {
   "cell_type": "markdown",
   "metadata": {},
   "source": [
    "### 유용하게 이용할 만한 함수\n",
    "\n",
    "- map( function, iterable) \n",
    "\n",
    "    첫번째 인자가 함수, 두번째 인자가 반복가능한 객체(str, tuple, dict..)\n",
    "    \n",
    "    ex)\n",
    "\n",
    "    ```\n",
    "    map(int, input().split())\n",
    "    ```\n",
    "    ['1', '2', '3']  ->   1 2 3\n",
    "      input : str       output : int "
   ]
  },
  {
   "cell_type": "code",
   "execution_count": 28,
   "metadata": {},
   "outputs": [
    {
     "name": "stdout",
     "output_type": "stream",
     "text": [
      "<map object at 0x0000013150EF3520>\n",
      "['1', '2', '3']\n"
     ]
    }
   ],
   "source": [
    "numbers = [1, 2, 3]\n",
    "result = map(str, numbers)\n",
    "\n",
    "print(result)\n",
    "print(list(result))"
   ]
  },
  {
   "cell_type": "code",
   "execution_count": 34,
   "metadata": {},
   "outputs": [
    {
     "name": "stdout",
     "output_type": "stream",
     "text": [
      "<class 'list'>\n",
      "['1', '2', '3']\n",
      "<class 'list'>\n"
     ]
    }
   ],
   "source": [
    "numbers = [1, 2, 3]\n",
    "print(type(numbers))\n",
    "\n",
    "result = []\n",
    "for number in numbers:\n",
    "    result.append(str(number))      #['1', '2', '3']\n",
    "\n",
    "print(result)\n",
    "print(type(result))"
   ]
  },
  {
   "cell_type": "markdown",
   "metadata": {},
   "source": [
    "- zip(*iterables) \n",
    "\n",
    "     임의의 iterable을 모아 튜플을 원소로 하는 zip object 로 반환\n"
   ]
  },
  {
   "cell_type": "code",
   "execution_count": 37,
   "metadata": {},
   "outputs": [
    {
     "name": "stdout",
     "output_type": "stream",
     "text": [
      "<zip object at 0x000001315104CC00>\n",
      "<class 'zip'>\n",
      "[('jane', 'peter'), ('ashley', 'jay')]\n"
     ]
    }
   ],
   "source": [
    "girls = ['jane', 'ashley']\n",
    "boys = ['peter', 'jay']\n",
    "pair = zip(girls, boys)\n",
    "\n",
    "print(pair)\n",
    "print(type(pair))\n",
    "print(list(pair))"
   ]
  },
  {
   "cell_type": "code",
   "execution_count": 39,
   "metadata": {},
   "outputs": [
    {
     "name": "stdout",
     "output_type": "stream",
     "text": [
      "Alice is 30 amd he/she lives in New York\n",
      "Bob is 25 amd he/she lives in London\n",
      "Charlie is 35 amd he/she lives in Paris\n"
     ]
    }
   ],
   "source": [
    "names = ['Alice', 'Bob', 'Charlie']\n",
    "ages = [30, 25, 35]\n",
    "cities = ['New York', 'London', 'Paris']\n",
    "\n",
    "for name, age, city in zip( names, ages, cities):\n",
    "    print(f'{name} is {age} amd he/she lives in {city}')"
   ]
  },
  {
   "cell_type": "markdown",
   "metadata": {},
   "source": [
    "- lambda 함수 \n",
    "\n",
    "    이름 없이 정의되고 사용되는 익명 함수\n",
    "    \n",
    "    lambda 매개변수 : 표현식 "
   ]
  },
  {
   "cell_type": "code",
   "execution_count": 40,
   "metadata": {},
   "outputs": [
    {
     "name": "stdout",
     "output_type": "stream",
     "text": [
      "8\n"
     ]
    }
   ],
   "source": [
    "# 람다함수 -> 굳이 이렇게 할 필요는 없음, 비교하려고 만든 코드 \n",
    "\n",
    "addition = lambda x, y: x + y\n",
    "\n",
    "result = addition(3, 5)\n",
    "print(result)"
   ]
  },
  {
   "cell_type": "code",
   "execution_count": 42,
   "metadata": {},
   "outputs": [
    {
     "data": {
      "text/plain": [
       "8"
      ]
     },
     "execution_count": 42,
     "metadata": {},
     "output_type": "execute_result"
    }
   ],
   "source": [
    "# 그냥 일반적인 함수\n",
    "\n",
    "def addition(x , y):\n",
    "    return x + y\n",
    "\n",
    "addition(3, 5)"
   ]
  },
  {
   "cell_type": "code",
   "execution_count": 43,
   "metadata": {},
   "outputs": [
    {
     "name": "stdout",
     "output_type": "stream",
     "text": [
      "[2, 4, 6, 8, 10]\n"
     ]
    }
   ],
   "source": [
    "# 람다함수를 쓰는 경우 -> 일회성으로 자주 씀 \n",
    "# 남용 하지 말고, 그냥 함수 정의해서 쓰는게 나을 수도 있음 \n",
    "\n",
    "numbers = [1, 2, 3, 4 , 5]\n",
    "result = list(map(lambda x : x *2, numbers))\n",
    "print(result )"
   ]
  },
  {
   "cell_type": "markdown",
   "metadata": {},
   "source": [
    "- 필터함수(filter)\n",
    "    filter(function, iterable) "
   ]
  },
  {
   "cell_type": "code",
   "execution_count": 49,
   "metadata": {},
   "outputs": [
    {
     "name": "stdout",
     "output_type": "stream",
     "text": [
      "[1, 3, 5]\n"
     ]
    }
   ],
   "source": [
    "# 리스트에서 홀수만 걸러내고 싶을 때\n",
    "# function의 결과는 True/False 여야함 \n",
    "# 결과가 True 인 것들만 골라서 반환\n",
    "\n",
    "def odd(n):\n",
    "    return n % 2 \n",
    "\n",
    "number = [1, 2, 3, 4, 5]\n",
    "#new_numbers = list(filter(odd, numbers))\n",
    "new_numbers = list((filter(lambda n : n % 2 , numbers)))\n",
    " \n",
    "\n",
    "print(new_numbers)\n",
    "\n"
   ]
  },
  {
   "cell_type": "markdown",
   "metadata": {},
   "source": [
    "## 패킹\n",
    "\n",
    " 여러개의 값을 하나의 변수에 묶어서 담는 것\n",
    "\n",
    " 기본적으로는 list, tuple 등 명시를 해줘야하지만 안해줘도 파이썬이 임의로 튜플형태로 묶어줌 \n"
   ]
  },
  {
   "cell_type": "code",
   "execution_count": 44,
   "metadata": {},
   "outputs": [
    {
     "name": "stdout",
     "output_type": "stream",
     "text": [
      "(1, 2, 3, 4, 5)\n"
     ]
    }
   ],
   "source": [
    "packed_values = 1, 2, 3, 4, 5\n",
    "print(packed_values)"
   ]
  },
  {
   "cell_type": "code",
   "execution_count": 47,
   "metadata": {},
   "outputs": [
    {
     "name": "stdout",
     "output_type": "stream",
     "text": [
      "1\n",
      "[2, 3, 4]\n",
      "5\n",
      "[1, 2, 3, 4, 5]\n",
      "1 2 3 4 5\n"
     ]
    }
   ],
   "source": [
    "# '*' 을 활용한 패킹/ 언패킹 \n",
    "# 남은 요소들을 리스트로 패킹하여 할당 \n",
    "\n",
    "numbers = [1, 2, 3, 4, 5]\n",
    "a, *b, c = numbers    # a 1개, c 1개 할당, b에 나머지 3개 할당 \n",
    "\n",
    "print(a)\n",
    "print(b)\n",
    "print(c)\n",
    "\n",
    "# list -> 괄호, 컴마 빼고 출력하고싶다 -> 언패킹 \n",
    "print(numbers)\n",
    "print(*numbers)\n"
   ]
  },
  {
   "cell_type": "markdown",
   "metadata": {},
   "source": [
    "# 모듈\n",
    "\n",
    " 한 파일로 묶인 변수와 함수의 모음, 특정한 기능을 하는 코드가 작성된 파이썬 파일(.py)\n",
    "\n",
    " - 모듈 예시 : math 모듈 \n",
    "    import math \n",
    "        => 수학과 관련된 변수, 값, 함수 등을 담고 있는 모듈\n",
    "\n",
    "    1. 모듈 가져오기\n",
    "\n",
    "        import 문이 필요 \n",
    "        내장 함수 help 사용하여 모듈에 무엇이 있는지 확인 가능\n",
    "\n",
    "    2. 모듈 사용하기\n",
    "\n",
    "        '. (dot)' : . 왼쪽 객체에서 .오른쪽 이름을 찾아라\n",
    "        math.pi : math 안에 들어가서 pi 를 찾겠다\n",
    "\n",
    "    3. 모듈을 import 하는 다른 방법\n",
    "    \n",
    "        from math import pi, sqrt \n",
    "        -> math 모듈 안에 pi, sqrt를 미리 import\n",
    "        \n",
    "        print(pi)\n",
    "        print(sqrt(4))\n",
    "\n",
    "    * 모듈 주의사항\n",
    "\n",
    "        서로 다른 모듈이 같은 이름의 함수를 제공하는 경우\n",
    "        ```\n",
    "        math.sqrt\n",
    "        my_math.sqrt \n",
    "        \n",
    "        ```\n",
    "\n",
    "- 사용자 정의 모듈 \n",
    "\n",
    "    직접 정의한 모듈 사용하기 \n",
    "        - 같은 폴더 내에 있어야 찾아오기 쉬움"
   ]
  },
  {
   "cell_type": "markdown",
   "metadata": {},
   "source": [
    "# 패키지 \n",
    "\n",
    "- 모듈을 모아둔 것 \n",
    "- PSL 내부 패키지(설치 없이 바로 import ), 외부패키지 ( pip 를 사용하여 설치후 import 필요)\n",
    "    - pip : 외부 패키지들을 설치하도록 도와주는 패키지 관리 시스템 \n"
   ]
  }
 ],
 "metadata": {
  "kernelspec": {
   "display_name": "Python 3",
   "language": "python",
   "name": "python3"
  },
  "language_info": {
   "codemirror_mode": {
    "name": "ipython",
    "version": 3
   },
   "file_extension": ".py",
   "mimetype": "text/x-python",
   "name": "python",
   "nbconvert_exporter": "python",
   "pygments_lexer": "ipython3",
   "version": "3.9.13"
  },
  "orig_nbformat": 4
 },
 "nbformat": 4,
 "nbformat_minor": 2
}
