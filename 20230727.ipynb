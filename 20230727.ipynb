{
 "cells": [
  {
   "cell_type": "markdown",
   "metadata": {},
   "source": [
    "# OOP의 핵심 개념\n",
    "- 추상화\n",
    "- 상속\n",
    "- 다형성\n",
    "- 캡슐화\n",
    "\n",
    "# 추상화\n",
    "\n",
    "세부적인 내용은 감추고 필요한 부분만 표현하는 것을 말한다.\n",
    "\n",
    "# 상속\n",
    "\n",
    "부모-자식\n",
    "코드의 재사용서을 위해서 사용한다.\n",
    "부모클래스에서 정의해 놓은 기능을 자식클래스에서 다시 만들지 않고 사용할 수 있다.\n",
    "\n",
    "# 다형성\n",
    "\n",
    "여러 모양을 뜻한다. 동일한 메서드가 클래스에 따라 다르게 행동할 수 있다. \n",
    "서로 다른 클래스에 속해있는 객체들이 동일한 메시지에 대해 각기 다른 방식으로 응답(동작)\n",
    "\n",
    " ### 메서드 오버라이딩\n",
    "\n",
    " - 상속받은 메서드를 그대로 사용하는게 아니라 재정의 해서 사용하는 것을 뜻한다\n",
    "\n",
    " # 캡슐화\n",
    "\n",
    "객체의 일부 구현 내용에 대해 외부로부터의 직접적인 접근을 차단한다.\n",
    "\n",
    "\n"
   ]
  },
  {
   "cell_type": "code",
   "execution_count": 3,
   "metadata": {},
   "outputs": [
    {
     "ename": "AttributeError",
     "evalue": "'Person' object has no attribute '__age'",
     "output_type": "error",
     "traceback": [
      "\u001b[1;31m---------------------------------------------------------------------------\u001b[0m",
      "\u001b[1;31mAttributeError\u001b[0m                            Traceback (most recent call last)",
      "Cell \u001b[1;32mIn[3], line 12\u001b[0m\n\u001b[0;32m      7\u001b[0m     \u001b[39m# def get_age(self):\u001b[39;00m\n\u001b[0;32m      8\u001b[0m     \u001b[39m#     return self.__age\u001b[39;00m\n\u001b[0;32m     10\u001b[0m p1 \u001b[39m=\u001b[39m Person(\u001b[39m\"\u001b[39m\u001b[39mminseok\u001b[39m\u001b[39m\"\u001b[39m, \u001b[39m15\u001b[39m)\n\u001b[1;32m---> 12\u001b[0m \u001b[39mprint\u001b[39m(p1\u001b[39m.\u001b[39;49m__age)  \u001b[39m# 변수에 직접 접근하는 것을 차단한다.\u001b[39;00m\n",
      "\u001b[1;31mAttributeError\u001b[0m: 'Person' object has no attribute '__age'"
     ]
    }
   ],
   "source": [
    "class Person:\n",
    "\n",
    "    def __init__(self, name, age):\n",
    "        self.name = name\n",
    "        self.__age = age\n",
    "\n",
    "    # def get_age(self):\n",
    "    #     return self.__age\n",
    "\n",
    "p1 = Person(\"minseok\", 15)\n",
    "\n",
    "print(p1.__age)  # 변수에 직접 접근하는 것을 차단한다."
   ]
  },
  {
   "cell_type": "code",
   "execution_count": null,
   "metadata": {},
   "outputs": [],
   "source": [
    "class Person:\n",
    "    def __init__(self, name):\n",
    "        self.name = name\n",
    "\n",
    "    def greeting(self):\n",
    "        print('Hello')\n",
    "\n",
    "class Student(Person):\n",
    "    "
   ]
  },
  {
   "cell_type": "markdown",
   "metadata": {},
   "source": [
    "# 클래스 \n",
    "    \n",
    "    파이썬에서 타입을 표현하는 방법 \n",
    "    => 객체를 생성하기 위한 설계도 \n",
    "    => 데이터와 기능을 함께 묶는 방법을 제공\n",
    "\n",
    "## 객체\n",
    "\n",
    "    클래스에 정의한 것을 토대로 메모리에 할당된 것, '속성'과 '행동'으로 구성된 모든 것\n",
    "    하나의 객체는 특정 타입의 인스턴스\n",
    "    \n",
    "\n",
    "\n",
    "\n"
   ]
  }
 ],
 "metadata": {
  "kernelspec": {
   "display_name": "Python 3",
   "language": "python",
   "name": "python3"
  },
  "language_info": {
   "codemirror_mode": {
    "name": "ipython",
    "version": 3
   },
   "file_extension": ".py",
   "mimetype": "text/x-python",
   "name": "python",
   "nbconvert_exporter": "python",
   "pygments_lexer": "ipython3",
   "version": "3.9.13"
  },
  "orig_nbformat": 4
 },
 "nbformat": 4,
 "nbformat_minor": 2
}
